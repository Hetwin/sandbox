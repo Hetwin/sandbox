{
 "cells": [
  {
   "cell_type": "markdown",
   "id": "e41eb232-c4bb-4bdf-b0a6-924bde8c0575",
   "metadata": {},
   "source": [
    "# Simple MNIST convnet\n",
    "This example was copied from [Keras](https://keras.io/examples/vision/mnist_convnet/) and helps to prove the functionality of keras in the docker container. Unfortunately keras is only available for **Python** in the docker image and at this moment not for R.\n",
    "\n",
    "Let's start!"
   ]
  },
  {
   "cell_type": "markdown",
   "id": "96b921b9-d589-40b6-8a6d-9eda58b9427f",
   "metadata": {},
   "source": [
    "## Setup"
   ]
  },
  {
   "cell_type": "code",
   "execution_count": 1,
   "id": "e4ef365f-9a74-42ef-a8bd-a1133165e32b",
   "metadata": {},
   "outputs": [
    {
     "name": "stderr",
     "output_type": "stream",
     "text": [
      "2023-06-20 19:20:04.622436: I tensorflow/tsl/cuda/cudart_stub.cc:28] Could not find cuda drivers on your machine, GPU will not be used.\n",
      "2023-06-20 19:20:04.662078: I tensorflow/tsl/cuda/cudart_stub.cc:28] Could not find cuda drivers on your machine, GPU will not be used.\n",
      "2023-06-20 19:20:04.662715: I tensorflow/core/platform/cpu_feature_guard.cc:182] This TensorFlow binary is optimized to use available CPU instructions in performance-critical operations.\n",
      "To enable the following instructions: AVX2 FMA, in other operations, rebuild TensorFlow with the appropriate compiler flags.\n",
      "2023-06-20 19:20:05.323693: W tensorflow/compiler/tf2tensorrt/utils/py_utils.cc:38] TF-TRT Warning: Could not find TensorRT\n"
     ]
    }
   ],
   "source": [
    "import numpy as np\n",
    "from tensorflow import keras\n",
    "from tensorflow.keras import layers"
   ]
  },
  {
   "cell_type": "markdown",
   "id": "6b6ce022-f6c1-4bce-af97-663a2530f806",
   "metadata": {},
   "source": [
    "## Prepare the data\n",
    "The data are loaded, modified and splitted into training and test sets. "
   ]
  },
  {
   "cell_type": "code",
   "execution_count": 2,
   "id": "256a9b99-1bf2-4d62-a72f-77a22c212b90",
   "metadata": {},
   "outputs": [
    {
     "name": "stdout",
     "output_type": "stream",
     "text": [
      "Downloading data from https://storage.googleapis.com/tensorflow/tf-keras-datasets/mnist.npz\n",
      "11490434/11490434 [==============================] - 2s 0us/step\n",
      "x_train shape: (60000, 28, 28, 1)\n",
      "60000 train samples\n",
      "10000 test samples\n"
     ]
    }
   ],
   "source": [
    "# Model / data parameters\n",
    "num_classes = 10\n",
    "input_shape = (28, 28, 1)\n",
    "\n",
    "# Load the data and split it between train and test sets\n",
    "(x_train, y_train), (x_test, y_test) = keras.datasets.mnist.load_data()\n",
    "\n",
    "# Scale images to the [0, 1] range\n",
    "x_train = x_train.astype(\"float32\") / 255\n",
    "x_test = x_test.astype(\"float32\") / 255\n",
    "# Make sure images have shape (28, 28, 1)\n",
    "x_train = np.expand_dims(x_train, -1)\n",
    "x_test = np.expand_dims(x_test, -1)\n",
    "print(\"x_train shape:\", x_train.shape)\n",
    "print(x_train.shape[0], \"train samples\")\n",
    "print(x_test.shape[0], \"test samples\")\n",
    "\n",
    "\n",
    "# convert class vectors to binary class matrices\n",
    "y_train = keras.utils.to_categorical(y_train, num_classes)\n",
    "y_test = keras.utils.to_categorical(y_test, num_classes)"
   ]
  },
  {
   "cell_type": "markdown",
   "id": "5539abfc-b232-4cd1-b0fe-be39cb445f95",
   "metadata": {},
   "source": [
    "## Build the model\n",
    "The simple convolution neural network is built. "
   ]
  },
  {
   "cell_type": "code",
   "execution_count": 3,
   "id": "3119f385-b5fd-4b90-a1ae-9d7d8482dd67",
   "metadata": {},
   "outputs": [
    {
     "name": "stdout",
     "output_type": "stream",
     "text": [
      "Model: \"sequential\"\n",
      "_________________________________________________________________\n",
      " Layer (type)                Output Shape              Param #   \n",
      "=================================================================\n",
      " conv2d (Conv2D)             (None, 26, 26, 32)        320       \n",
      "                                                                 \n",
      " max_pooling2d (MaxPooling2D  (None, 13, 13, 32)       0         \n",
      " )                                                               \n",
      "                                                                 \n",
      " conv2d_1 (Conv2D)           (None, 11, 11, 64)        18496     \n",
      "                                                                 \n",
      " max_pooling2d_1 (MaxPooling  (None, 5, 5, 64)         0         \n",
      " 2D)                                                             \n",
      "                                                                 \n",
      " flatten (Flatten)           (None, 1600)              0         \n",
      "                                                                 \n",
      " dropout (Dropout)           (None, 1600)              0         \n",
      "                                                                 \n",
      " dense (Dense)               (None, 10)                16010     \n",
      "                                                                 \n",
      "=================================================================\n",
      "Total params: 34,826\n",
      "Trainable params: 34,826\n",
      "Non-trainable params: 0\n",
      "_________________________________________________________________\n"
     ]
    }
   ],
   "source": [
    "model = keras.Sequential(\n",
    "    [\n",
    "        keras.Input(shape=input_shape),\n",
    "        layers.Conv2D(32, kernel_size=(3, 3), activation=\"relu\"),\n",
    "        layers.MaxPooling2D(pool_size=(2, 2)),\n",
    "        layers.Conv2D(64, kernel_size=(3, 3), activation=\"relu\"),\n",
    "        layers.MaxPooling2D(pool_size=(2, 2)),\n",
    "        layers.Flatten(),\n",
    "        layers.Dropout(0.5),\n",
    "        layers.Dense(num_classes, activation=\"softmax\"),\n",
    "    ]\n",
    ")\n",
    "\n",
    "model.summary()"
   ]
  },
  {
   "cell_type": "markdown",
   "id": "2cc46b3b-9baa-4e31-b4c0-1f24b1d5aa1a",
   "metadata": {},
   "source": [
    "## Train the model\n",
    "The model is trained. This process takes some time."
   ]
  },
  {
   "cell_type": "code",
   "execution_count": 4,
   "id": "aea921d6-57ec-4e40-a1d3-7c5be52733bb",
   "metadata": {},
   "outputs": [
    {
     "name": "stderr",
     "output_type": "stream",
     "text": [
      "2023-06-20 05:23:01.178271: W tensorflow/tsl/framework/cpu_allocator_impl.cc:83] Allocation of 169344000 exceeds 10% of free system memory.\n"
     ]
    },
    {
     "name": "stdout",
     "output_type": "stream",
     "text": [
      "Epoch 1/15\n",
      "422/422 [==============================] - 17s 38ms/step - loss: 0.3601 - accuracy: 0.8916 - val_loss: 0.0804 - val_accuracy: 0.9795\n",
      "Epoch 2/15\n",
      "422/422 [==============================] - 14s 33ms/step - loss: 0.1122 - accuracy: 0.9655 - val_loss: 0.0584 - val_accuracy: 0.9842\n",
      "Epoch 3/15\n",
      "422/422 [==============================] - 15s 36ms/step - loss: 0.0815 - accuracy: 0.9752 - val_loss: 0.0480 - val_accuracy: 0.9867\n",
      "Epoch 4/15\n",
      "422/422 [==============================] - 12s 28ms/step - loss: 0.0715 - accuracy: 0.9781 - val_loss: 0.0445 - val_accuracy: 0.9887\n",
      "Epoch 5/15\n",
      "422/422 [==============================] - 12s 28ms/step - loss: 0.0615 - accuracy: 0.9809 - val_loss: 0.0411 - val_accuracy: 0.9882\n",
      "Epoch 6/15\n",
      "422/422 [==============================] - 12s 28ms/step - loss: 0.0566 - accuracy: 0.9826 - val_loss: 0.0354 - val_accuracy: 0.9915\n",
      "Epoch 7/15\n",
      "422/422 [==============================] - 13s 31ms/step - loss: 0.0505 - accuracy: 0.9845 - val_loss: 0.0335 - val_accuracy: 0.9907\n",
      "Epoch 8/15\n",
      "422/422 [==============================] - 14s 32ms/step - loss: 0.0480 - accuracy: 0.9849 - val_loss: 0.0347 - val_accuracy: 0.9907\n",
      "Epoch 9/15\n",
      "422/422 [==============================] - 12s 29ms/step - loss: 0.0424 - accuracy: 0.9865 - val_loss: 0.0347 - val_accuracy: 0.9902\n",
      "Epoch 10/15\n",
      "422/422 [==============================] - 11s 27ms/step - loss: 0.0421 - accuracy: 0.9866 - val_loss: 0.0323 - val_accuracy: 0.9908\n",
      "Epoch 11/15\n",
      "422/422 [==============================] - 12s 29ms/step - loss: 0.0400 - accuracy: 0.9871 - val_loss: 0.0317 - val_accuracy: 0.9908\n",
      "Epoch 12/15\n",
      "422/422 [==============================] - 12s 27ms/step - loss: 0.0369 - accuracy: 0.9882 - val_loss: 0.0299 - val_accuracy: 0.9915\n",
      "Epoch 13/15\n",
      "422/422 [==============================] - 12s 27ms/step - loss: 0.0361 - accuracy: 0.9884 - val_loss: 0.0342 - val_accuracy: 0.9897\n",
      "Epoch 14/15\n",
      "422/422 [==============================] - 11s 27ms/step - loss: 0.0345 - accuracy: 0.9888 - val_loss: 0.0313 - val_accuracy: 0.9897\n",
      "Epoch 15/15\n",
      "422/422 [==============================] - 11s 27ms/step - loss: 0.0322 - accuracy: 0.9892 - val_loss: 0.0307 - val_accuracy: 0.9913\n"
     ]
    },
    {
     "data": {
      "text/plain": [
       "<keras.callbacks.History at 0x7eff66e0b890>"
      ]
     },
     "execution_count": 4,
     "metadata": {},
     "output_type": "execute_result"
    }
   ],
   "source": [
    "batch_size = 128\n",
    "epochs = 15\n",
    "\n",
    "model.compile(loss=\"categorical_crossentropy\", optimizer=\"adam\", metrics=[\"accuracy\"])\n",
    "\n",
    "model.fit(x_train, y_train, batch_size=batch_size, epochs=epochs, validation_split=0.1)"
   ]
  },
  {
   "cell_type": "markdown",
   "id": "e0b7aaf7-afec-4f11-a386-e6b7e9677660",
   "metadata": {},
   "source": [
    "## Evaluted the trained model\n",
    "Now the performance of the model is evaluted. "
   ]
  },
  {
   "cell_type": "code",
   "execution_count": 5,
   "id": "654c0228-5a36-4c35-918b-7be7247c2eba",
   "metadata": {},
   "outputs": [
    {
     "name": "stderr",
     "output_type": "stream",
     "text": [
      "2023-06-20 05:26:27.813215: W tensorflow/tsl/framework/cpu_allocator_impl.cc:83] Allocation of 31360000 exceeds 10% of free system memory.\n"
     ]
    },
    {
     "name": "stdout",
     "output_type": "stream",
     "text": [
      "Test loss: 0.02396452985703945\n",
      "Test accuracy: 0.9925000071525574\n"
     ]
    }
   ],
   "source": [
    "score = model.evaluate(x_test, y_test, verbose=0)\n",
    "print(\"Test loss:\", score[0])\n",
    "print(\"Test accuracy:\", score[1])"
   ]
  }
 ],
 "metadata": {
  "kernelspec": {
   "display_name": "Python 3 (ipykernel)",
   "language": "python",
   "name": "python3"
  },
  "language_info": {
   "codemirror_mode": {
    "name": "ipython",
    "version": 3
   },
   "file_extension": ".py",
   "mimetype": "text/x-python",
   "name": "python",
   "nbconvert_exporter": "python",
   "pygments_lexer": "ipython3",
   "version": "3.11.3"
  }
 },
 "nbformat": 4,
 "nbformat_minor": 5
}
